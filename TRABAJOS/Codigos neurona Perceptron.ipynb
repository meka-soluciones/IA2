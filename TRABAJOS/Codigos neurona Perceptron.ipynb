{
  "nbformat": 4,
  "nbformat_minor": 0,
  "metadata": {
    "colab": {
      "provenance": [],
      "authorship_tag": "ABX9TyOtXdRpgX8rrL/qDKbBmkIc",
      "include_colab_link": true
    },
    "kernelspec": {
      "name": "python3",
      "display_name": "Python 3"
    },
    "language_info": {
      "name": "python"
    }
  },
  "cells": [
    {
      "cell_type": "markdown",
      "metadata": {
        "id": "view-in-github",
        "colab_type": "text"
      },
      "source": [
        "<a href=\"https://colab.research.google.com/github/meka-soluciones/IA2/blob/main/Codigos_26_09.ipynb\" target=\"_parent\"><img src=\"https://colab.research.google.com/assets/colab-badge.svg\" alt=\"Open In Colab\"/></a>"
      ]
    },
    {
      "cell_type": "markdown",
      "source": [
        "#Perceptron"
      ],
      "metadata": {
        "id": "FVJ3co_DxhCD"
      }
    },
    {
      "cell_type": "markdown",
      "source": [
        "Librerias"
      ],
      "metadata": {
        "id": "MQdbNb92xn06"
      }
    },
    {
      "cell_type": "code",
      "source": [
        "import numpy as np\n",
        "import matplotlib.pyplot as plt"
      ],
      "metadata": {
        "id": "-Z3_qu9uxiqy"
      },
      "execution_count": null,
      "outputs": []
    },
    {
      "cell_type": "markdown",
      "source": [
        "Data Set: Tabla de verdad compuertan AND"
      ],
      "metadata": {
        "id": "ghC-eWhaxqMy"
      }
    },
    {
      "cell_type": "code",
      "source": [
        "inputs = np.array([[0,0],[0,1],[1,0],[1,1]])\n",
        "outputs = np.array([0,0,0,1])"
      ],
      "metadata": {
        "id": "ipOgjqb7xs-V"
      },
      "execution_count": null,
      "outputs": []
    },
    {
      "cell_type": "code",
      "source": [
        "plt.figure(figsize=(2,2))\n",
        "plt.scatter(inputs[:,0],inputs[:,1],c=outputs)\n",
        "plt.xlabel('A')\n",
        "plt.ylabel('B')"
      ],
      "metadata": {
        "colab": {
          "base_uri": "https://localhost:8080/",
          "height": 251
        },
        "id": "yEz9aAM9yjFA",
        "outputId": "05e18400-b02c-4316-eb18-be7cdf5ecb5e"
      },
      "execution_count": null,
      "outputs": [
        {
          "output_type": "execute_result",
          "data": {
            "text/plain": [
              "Text(0, 0.5, 'B')"
            ]
          },
          "metadata": {},
          "execution_count": 27
        },
        {
          "output_type": "display_data",
          "data": {
            "text/plain": [
              "<Figure size 200x200 with 1 Axes>"
            ],
            "image/png": "[encoded data removed]"
          },
          "metadata": {}
        }
      ]
    },
    {
      "cell_type": "markdown",
      "source": [
        "#Parametros\n",
        "\n",
        "*   Pesos\n",
        "*   Bias\n",
        "*   Learning_rate"
      ],
      "metadata": {
        "id": "Ws0kzFs9zbny"
      }
    },
    {
      "cell_type": "code",
      "source": [
        "weight=np.random.rand(2)\n",
        "bias=np.random.rand(1)\n",
        "learning_rate=0.1"
      ],
      "metadata": {
        "id": "vNxGsmCCzuqh"
      },
      "execution_count": null,
      "outputs": []
    },
    {
      "cell_type": "markdown",
      "source": [
        "#Modelo"
      ],
      "metadata": {
        "id": "91tHTjghzyJK"
      }
    },
    {
      "cell_type": "code",
      "source": [
        "#Funcion de prediccion\n",
        "def predict(inputs):\n",
        "  linear=np.dot(inputs,weight)+bias\n",
        "  if linear>=0:\n",
        "    return 1\n",
        "  else:\n",
        "    return 0\n",
        "  return np.dot(inputs,weight)+bias"
      ],
      "metadata": {
        "id": "f3yOMUgEzzR3"
      },
      "execution_count": null,
      "outputs": []
    },
    {
      "cell_type": "code",
      "source": [
        "def train(inputs,outputs, epochs):\n",
        "  global weight,bias\n",
        "  for epoch in range(epochs):\n",
        "    total_error=0\n",
        "    for x, y in zip(inputs,outputs):\n",
        "      y_predic=predict(x)\n",
        "      error=y-y_predic\n",
        "      total_error+=abs(error)\n",
        "      weight+=learning_rate*error*x\n",
        "      bias+=learning_rate*error\n",
        "    print(f'Epoch: {epoch}, Error: {total_error}')\n"
      ],
      "metadata": {
        "id": "gvvMgM591dXJ"
      },
      "execution_count": null,
      "outputs": []
    },
    {
      "cell_type": "code",
      "source": [
        "train(inputs,outputs,epochs=10)"
      ],
      "metadata": {
        "colab": {
          "base_uri": "https://localhost:8080/"
        },
        "id": "Bh7Pfz_X4AFU",
        "outputId": "6252389d-ca9e-4647-de02-3a4a55a9ae96"
      },
      "execution_count": null,
      "outputs": [
        {
          "output_type": "stream",
          "name": "stdout",
          "text": [
            "Epoch: 0, Error: 3\n",
            "Epoch: 1, Error: 3\n",
            "Epoch: 2, Error: 3\n",
            "Epoch: 3, Error: 2\n",
            "Epoch: 4, Error: 0\n",
            "Epoch: 5, Error: 0\n",
            "Epoch: 6, Error: 0\n",
            "Epoch: 7, Error: 0\n",
            "Epoch: 8, Error: 0\n",
            "Epoch: 9, Error: 0\n"
          ]
        }
      ]
    },
    {
      "cell_type": "markdown",
      "source": [
        "#Grafica del limite de Decision"
      ],
      "metadata": {
        "id": "_aENTerg4XTN"
      }
    },
    {
      "cell_type": "code",
      "source": [
        "Ald=np.linspace(0,1)"
      ],
      "metadata": {
        "id": "TLzAunc44Z3F"
      },
      "execution_count": null,
      "outputs": []
    },
    {
      "cell_type": "code",
      "source": [
        "  x2 = -(weight[0] * Ald + bias) / weight[1]\n",
        "  plt.figure(figsize=(2,2))\n",
        "  plt.scatter(inputs[:,0],inputs[:,1],c=outputs)\n",
        "  plt.xlabel('A')\n",
        "  plt.ylabel('B')\n",
        "  plt.plot(Ald,x2)"
      ],
      "metadata": {
        "colab": {
          "base_uri": "https://localhost:8080/",
          "height": 251
        },
        "id": "vRGENmEt5h-0",
        "outputId": "9f461707-d36b-4fb8-e9a1-7020915a388e"
      },
      "execution_count": null,
      "outputs": [
        {
          "output_type": "execute_result",
          "data": {
            "text/plain": [
              "[<matplotlib.lines.Line2D at 0x7d56eb4c8280>]"
            ]
          },
          "metadata": {},
          "execution_count": 42
        },
        {
          "output_type": "display_data",
          "data": {
            "text/plain": [
              "<Figure size 200x200 with 1 Axes>"
            ],
            "image/png": "[encoded data removed]"
          },
          "metadata": {}
        }
      ]
    }
  ]
}
